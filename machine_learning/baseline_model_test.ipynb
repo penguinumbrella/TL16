{
 "cells": [
  {
   "cell_type": "code",
   "execution_count": 29,
   "metadata": {},
   "outputs": [],
   "source": [
    "import torch\n",
    "import numpy as np\n",
    "from torch.utils.data import Dataset\n",
    "import torch.nn as nn\n",
    "import torch.nn.functional as F\n",
    "import math\n",
    "import pandas as pd\n",
    "from prophet import Prophet\n",
    "import seaborn as sns\n",
    "import matplotlib.pyplot as plt\n",
    "from pandas.api.types import CategoricalDtype\n",
    "from baseline_model import random_baseline_model\n",
    "from data_split import split_data, get_dates_only_file"
   ]
  },
  {
   "cell_type": "code",
   "execution_count": 30,
   "metadata": {},
   "outputs": [
    {
     "name": "stderr",
     "output_type": "stream",
     "text": [
      "c:\\Users\\user\\Desktop\\CPEN 491\\repo\\TL16\\machine_learning\\baseline_model.py:54: FutureWarning: The default of observed=False is deprecated and will be changed to True in a future version of pandas. Pass observed=False to retain current behavior or observed=True to adopt the future default and silence this warning.\n",
      "  self.group = self.features_and_target.groupby(['hour', 'weekday', 'season'])[str(sensor)].mean()\n",
      "c:\\Users\\user\\Desktop\\CPEN 491\\repo\\TL16\\machine_learning\\baseline_model.py:55: FutureWarning: The default of observed=False is deprecated and will be changed to True in a future version of pandas. Pass observed=False to retain current behavior or observed=True to adopt the future default and silence this warning.\n",
      "  self.pivot_group = self.features_and_target.groupby(['hour', 'weekday', 'season'])[str(sensor)].mean().reset_index()\n"
     ]
    }
   ],
   "source": [
    "sensor = 300\n",
    "split_data(\"traffic.csv\", 15000, sensor, \"traffic_testing_sensor_\"+str(sensor)+\".csv\")\n",
    "get_dates_only_file(\"traffic_testing_sensor_\"+str(sensor)+\".csv\", \"traffic_testing_dates_only.csv\")\n",
    "model = random_baseline_model('traffic.csv', sensor)"
   ]
  },
  {
   "cell_type": "code",
   "execution_count": 31,
   "metadata": {},
   "outputs": [
    {
     "data": {
      "text/plain": [
       "0.07865000000000001"
      ]
     },
     "execution_count": 31,
     "metadata": {},
     "output_type": "execute_result"
    }
   ],
   "source": [
    "time = pd.DatetimeIndex([\"4/9/2016 10:00:00\"])\n",
    "k = model.predict_one(time)\n",
    "k\n",
    "# 0.0588"
   ]
  },
  {
   "cell_type": "code",
   "execution_count": 32,
   "metadata": {},
   "outputs": [],
   "source": [
    "predictions = model.predict_many(\"traffic_testing_sensor_\"+str(sensor)+\".csv\")"
   ]
  },
  {
   "cell_type": "code",
   "execution_count": 33,
   "metadata": {},
   "outputs": [
    {
     "name": "stderr",
     "output_type": "stream",
     "text": [
      "C:\\Users\\user\\AppData\\Local\\Temp\\ipykernel_22404\\220853056.py:1: UserWarning: Could not infer format, so each element will be parsed individually, falling back to `dateutil`. To ensure parsing is consistent and as-expected, please specify a format.\n",
      "  actual_values_df = pd.read_csv(\"traffic_testing_sensor_\"+str(sensor)+\".csv\", usecols=[1],\n"
     ]
    }
   ],
   "source": [
    "actual_values_df = pd.read_csv(\"traffic_testing_sensor_\"+str(sensor)+\".csv\", usecols=[1],\n",
    "                        index_col=[0],\n",
    "                        parse_dates=[0])\n",
    "\n",
    "actual_values = np.zeros(len(actual_values_df.index))\n",
    "for i in range(len(actual_values_df.index)):\n",
    "    actual_values[i] = (actual_values_df.index[i])"
   ]
  },
  {
   "cell_type": "code",
   "execution_count": 34,
   "metadata": {},
   "outputs": [],
   "source": [
    "df = pd.read_csv('traffic_testing_dates_only.csv')\n",
    "df[str(sensor)] = predictions\n",
    "df.to_csv('traffic_testing_sensor'+str(sensor)+'_predictions.csv', index=False)"
   ]
  },
  {
   "cell_type": "code",
   "execution_count": 35,
   "metadata": {},
   "outputs": [
    {
     "name": "stdout",
     "output_type": "stream",
     "text": [
      "r2 = 0.9160165434200948\n",
      "mae = 0.004126572327044026\n",
      "mse = 6.460451257861636e-05\n",
      "rmse = 0.008037693237404397\n"
     ]
    }
   ],
   "source": [
    "from sklearn.metrics import root_mean_squared_error, r2_score, mean_absolute_error, mean_squared_error\n",
    "epsilon = 0.00000001\n",
    "r2 = r2_score(actual_values, predictions)\n",
    "mae = mean_absolute_error(actual_values, predictions)\n",
    "mse = mean_squared_error(actual_values, predictions)\n",
    "rmse = root_mean_squared_error(actual_values, predictions)\n",
    "\n",
    "print(f\"r2 = {r2}\")\n",
    "print(f\"mae = {mae}\")\n",
    "print(f\"mse = {mse}\")\n",
    "print(f\"rmse = {rmse}\")\n",
    "\n",
    "# r2 = 0.7892632478943612\n",
    "# mae = 0.01487035495283019\n",
    "# mse = 0.0009467459233255039\n",
    "# rmse = 0.030769236638654263"
   ]
  }
 ],
 "metadata": {
  "kernelspec": {
   "display_name": "Python 3",
   "language": "python",
   "name": "python3"
  },
  "language_info": {
   "codemirror_mode": {
    "name": "ipython",
    "version": 3
   },
   "file_extension": ".py",
   "mimetype": "text/x-python",
   "name": "python",
   "nbconvert_exporter": "python",
   "pygments_lexer": "ipython3",
   "version": "3.12.1"
  }
 },
 "nbformat": 4,
 "nbformat_minor": 2
}
