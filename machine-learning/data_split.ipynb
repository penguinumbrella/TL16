{
 "cells": [
  {
   "cell_type": "code",
   "execution_count": 17,
   "metadata": {},
   "outputs": [],
   "source": [
    "import torch\n",
    "import numpy as np\n",
    "from torch.utils.data import Dataset\n",
    "import torch.nn as nn\n",
    "import torch.nn.functional as F\n",
    "import math\n",
    "import pandas as pd\n",
    "from prophet import Prophet\n",
    "import seaborn as sns\n",
    "import matplotlib.pyplot as plt\n",
    "from pandas.api.types import CategoricalDtype\n",
    "\n",
    "#line 14000\n",
    "#2018-02-14: 8 AM\n",
    "\n",
    "# Read data from the original CSV file\n"
   ]
  },
  {
   "cell_type": "code",
   "execution_count": 73,
   "metadata": {},
   "outputs": [],
   "source": [
    "# splits the data by row and saves it into a new file\n",
    "# input_filename, output_filename: strings ending in .csv\n",
    "# row, sensor : int\n",
    "def split_data(input_filename, row, sensor, output_filename):\n",
    "    data =  pd.read_csv(input_filename,\n",
    "                    usecols=[0,sensor + 1],\n",
    "                    index_col=[0],\n",
    "                    parse_dates=[0])\n",
    "    \n",
    "    splitData = data.iloc[row:]\n",
    "    splitData.to_csv(output_filename)\n",
    "\n",
    "\n",
    "# creates a new file that only has the dates\n",
    "# the date column needs to be called \"date\"\n",
    "# the date column needs to be first column in the file\n",
    "# input_filename, output_filename : strings ending in .csv\n",
    "def get_dates_only_file(input_filename, output_filename ):\n",
    "    data = pd.read_csv(input_filename,usecols=[0],\n",
    "                    index_col=[0],\n",
    "                    parse_dates=[0])\n",
    "\n",
    "    df = pd.DataFrame(data.index, columns=['date'])\n",
    "    df.to_csv(output_filename, index=False)\n",
    "\n",
    "\n",
    "split_data(\"traffic.csv\", 15000, 100, \"sensor_100.csv\")\n",
    "get_dates_only_file(\"sensor_100.csv\", \"sensor_100_dates_only.csv\")"
   ]
  }
 ],
 "metadata": {
  "kernelspec": {
   "display_name": "Python 3",
   "language": "python",
   "name": "python3"
  },
  "language_info": {
   "codemirror_mode": {
    "name": "ipython",
    "version": 3
   },
   "file_extension": ".py",
   "mimetype": "text/x-python",
   "name": "python",
   "nbconvert_exporter": "python",
   "pygments_lexer": "ipython3",
   "version": "3.12.1"
  }
 },
 "nbformat": 4,
 "nbformat_minor": 2
}
