{
 "cells": [
  {
   "cell_type": "code",
   "execution_count": 14,
   "metadata": {},
   "outputs": [],
   "source": [
    "# Jupyter Notebook Code\n",
    "import pandas as pd\n",
    "\n",
    "# Load the data before 2024-03-05 23:00:00\n",
    "data_before = pd.read_csv('./../sample-data/organized_parking_data_NEW.csv')\n",
    "\n",
    "# Load the data after 2024-03-05 23:00:00\n",
    "data_after = pd.read_csv('./../sample-data/transposed_output_hourly.csv')\n",
    "\n",
    "# Ensure the Timestamp column is in datetime format\n",
    "data_before['Timestamp'] = pd.to_datetime(data_before['Timestamp'])\n",
    "data_after['Timestamp'] = pd.to_datetime(data_after['Hour'])\n",
    "# Combine the data\n",
    "combined_data = pd.concat([data_before, data_after])\n",
    "\n",
    "# Sort the data by Timestamp\n",
    "combined_data = combined_data.sort_values(by='Timestamp').reset_index(drop=True)\n",
    "combined_data = combined_data.drop('Hour', axis = 1)\n",
    "\n",
    "# Save the combined data to a new CSV file\n",
    "combined_csv_file_path = '../sample-data/combined_parking_data.csv'\n",
    "combined_data.to_csv(combined_csv_file_path, index=False)\n"
   ]
  },
  {
   "cell_type": "code",
   "execution_count": 15,
   "metadata": {},
   "outputs": [],
   "source": [
    "combined_data = combined_data.drop('Unnamed: 0', axis=1)"
   ]
  },
  {
   "cell_type": "code",
   "execution_count": 16,
   "metadata": {},
   "outputs": [],
   "source": [
    "combined_data\n",
    "combined_csv_file_path = '../sample-data/combined_parking_data.csv'\n",
    "combined_data.to_csv(combined_csv_file_path, index=False)"
   ]
  },
  {
   "cell_type": "code",
   "execution_count": 17,
   "metadata": {},
   "outputs": [
    {
     "name": "stdout",
     "output_type": "stream",
     "text": [
      "Combined data has been successfully saved to ../sample-data/combined_parking_data.csv\n"
     ]
    }
   ],
   "source": [
    "\n",
    "print(f\"Combined data has been successfully saved to {combined_csv_file_path}\")"
   ]
  },
  {
   "cell_type": "code",
   "execution_count": null,
   "metadata": {},
   "outputs": [],
   "source": []
  },
  {
   "cell_type": "code",
   "execution_count": 18,
   "metadata": {},
   "outputs": [],
   "source": [
    "# IGNORE THIS"
   ]
  }
 ],
 "metadata": {
  "kernelspec": {
   "display_name": "Python 3",
   "language": "python",
   "name": "python3"
  },
  "language_info": {
   "codemirror_mode": {
    "name": "ipython",
    "version": 3
   },
   "file_extension": ".py",
   "mimetype": "text/x-python",
   "name": "python",
   "nbconvert_exporter": "python",
   "pygments_lexer": "ipython3",
   "version": "3.12.4"
  }
 },
 "nbformat": 4,
 "nbformat_minor": 2
}
